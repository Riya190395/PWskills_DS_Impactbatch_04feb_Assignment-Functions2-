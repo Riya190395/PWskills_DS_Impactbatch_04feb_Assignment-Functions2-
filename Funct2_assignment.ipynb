{
 "cells": [
  {
   "cell_type": "markdown",
   "id": "5bd3ec87-2944-4fc6-bea6-13eade188180",
   "metadata": {},
   "source": [
    "# Q1. Create a python program to sort the given list of tuples based on integer value using a  lambda function.[('Sachin Tendulkar', 34357), ('Ricky Ponting', 27483), ('Jack Kallis', 25534), ('Virat Kohli', 24936)] "
   ]
  },
  {
   "cell_type": "code",
   "execution_count": 39,
   "id": "92f16b2e-11de-4451-ab8b-ce079a9cfc0e",
   "metadata": {},
   "outputs": [
    {
     "name": "stdout",
     "output_type": "stream",
     "text": [
      "Before sort :  [('Sachin Tendulkar', 34357), ('Ricky Ponting', 27483), ('Jack Kallis', 25534), ('Virat Kohli', 24936)]\n",
      "After sort :  [('Virat Kohli', 24936), ('Jack Kallis', 25534), ('Ricky Ponting', 27483), ('Sachin Tendulkar', 34357)]\n"
     ]
    }
   ],
   "source": [
    "givenList = [('Sachin Tendulkar', 34357), ('Ricky Ponting', 27483), ('Jack Kallis', 25534), ('Virat Kohli', 24936)]\n",
    "\n",
    "print(\"Before sort : \", givenList)\n",
    "\n",
    "sortedList = sorted(givenList, key = lambda x : x[1])\n",
    "\n",
    "print(\"After sort : \", sortedList)"
   ]
  },
  {
   "cell_type": "markdown",
   "id": "e1c596ca-9641-4a9d-b049-2dc6ca97d972",
   "metadata": {},
   "source": [
    "# Q2. Write a Python Program to find the squares of all the numbers in the given list of integers using  lambda and map functions. [1, 2, 3, 4, 5, 6, 7, 8, 9, 10] "
   ]
  },
  {
   "cell_type": "code",
   "execution_count": 41,
   "id": "f9a3a956-3a3b-4717-9bc3-c4932b850e16",
   "metadata": {},
   "outputs": [
    {
     "name": "stdout",
     "output_type": "stream",
     "text": [
      "Before sort: [1, 2, 3, 4, 5, 6, 7, 8, 9, 10]\n",
      "After sort: [1, 4, 9, 16, 25, 36, 49, 64, 81, 100]\n"
     ]
    }
   ],
   "source": [
    "givenList1 = [1, 2, 3, 4, 5, 6, 7, 8, 9, 10]\n",
    "print(\"Before sort:\", givenList1)\n",
    "\n",
    "squared_numbers = list(map(lambda a: a**2, givenList1))\n",
    "\n",
    "print(\"After sort:\", squared_numbers)"
   ]
  },
  {
   "cell_type": "markdown",
   "id": "975319ab-151b-4c4a-9b56-413852eabbef",
   "metadata": {},
   "source": [
    "# Q3. Write a python program to convert the given list of integers into a tuple of strings. Use map and  lambda functions. Given String: [1, 2, 3, 4, 5, 6, 7, 8, 9, 10] Expected output: ('1', '2', '3', '4', '5', '6', '7', '8', '9', '10') "
   ]
  },
  {
   "cell_type": "code",
   "execution_count": 42,
   "id": "b1b6a922-faa9-44f5-9583-717418be101b",
   "metadata": {},
   "outputs": [
    {
     "name": "stdout",
     "output_type": "stream",
     "text": [
      "List of intergers: [1, 2, 3, 4, 5, 6, 7, 8, 9, 10]\n",
      "Tuple of strings: ('1', '2', '3', '4', '5', '6', '7', '8', '9', '10')\n"
     ]
    }
   ],
   "source": [
    "givenList2 = [1, 2, 3, 4, 5, 6, 7, 8, 9, 10]\n",
    "print(\"List of intergers:\", givenList2)\n",
    "\n",
    "Tuple_of_strings = tuple(map(lambda a : str(a), givenList2))\n",
    "print(\"Tuple of strings:\", Tuple_of_strings)"
   ]
  },
  {
   "cell_type": "markdown",
   "id": "d4cc4f9d-28cc-4797-b327-91d41ef13454",
   "metadata": {},
   "source": [
    "# Q4.  Write a python program using reduce function to compute the product of a list containing numbers  from 1 to 25. "
   ]
  },
  {
   "cell_type": "code",
   "execution_count": 43,
   "id": "9b8c8070-98f8-41ea-b5d7-b8637b08272b",
   "metadata": {},
   "outputs": [],
   "source": [
    "from functools import reduce"
   ]
  },
  {
   "cell_type": "code",
   "execution_count": 44,
   "id": "3ed580d8-3753-410e-a731-00e61b131f31",
   "metadata": {},
   "outputs": [
    {
     "name": "stdout",
     "output_type": "stream",
     "text": [
      "Given List: [1, 2, 3, 4, 5, 6, 7, 8, 9, 10, 11, 12, 13, 14, 15, 16, 17, 18, 19, 20, 21, 22, 23, 24, 25]\n",
      "Product of list: 15511210043330985984000000\n"
     ]
    }
   ],
   "source": [
    "#solution1\n",
    "\n",
    "def Mul(x, y):\n",
    "    return x*y\n",
    "\n",
    "givenList3 = []\n",
    "for i in range(1,26):\n",
    "    givenList3.append(i)\n",
    "    \n",
    "print(\"Given List:\", list(givenList3))    \n",
    "product = reduce(Mul, givenList3)  \n",
    "\n",
    "print(\"Product of list:\", product)"
   ]
  },
  {
   "cell_type": "code",
   "execution_count": 45,
   "id": "406c91e3-40e4-43b9-8d93-990ed9c57fea",
   "metadata": {},
   "outputs": [
    {
     "name": "stdout",
     "output_type": "stream",
     "text": [
      "Given List: [1, 2, 3, 4, 5, 6, 7, 8, 9, 10, 11, 12, 13, 14, 15, 16, 17, 18, 19, 20, 21, 22, 23, 24, 25]\n",
      "Product of list: 15511210043330985984000000\n"
     ]
    }
   ],
   "source": [
    "#solution2\n",
    "\n",
    "numbers =  [i for i in range(1,26)]\n",
    "print(\"Given List:\", numbers)\n",
    "\n",
    "product1 = reduce(lambda x,y : x*y, numbers)\n",
    "\n",
    "print(\"Product of list:\", product1)"
   ]
  },
  {
   "cell_type": "markdown",
   "id": "ddd01f20-6d4f-4948-a3fd-e969a160bfbd",
   "metadata": {},
   "source": [
    "# Q5. Write a python program to filter the numbers in a given list that are divisible by 2 and 3 using the  filter function.[2, 3, 6, 9, 27, 60, 90, 120, 55, 46] "
   ]
  },
  {
   "cell_type": "code",
   "execution_count": 46,
   "id": "aad03213-4486-46c8-addc-4744ac86fa4c",
   "metadata": {},
   "outputs": [
    {
     "name": "stdout",
     "output_type": "stream",
     "text": [
      "Given List is: [2, 3, 6, 9, 27, 60, 90, 120, 55, 46]\n",
      "Filtered List: [6, 60, 90, 120]\n"
     ]
    }
   ],
   "source": [
    "givenList4 = [2, 3, 6, 9, 27, 60, 90, 120, 55, 46]\n",
    "print(\"Given List is:\", givenList4)\n",
    "\n",
    "filteredList = list(filter(lambda a : a % 2 == 0and a % 3== 0, givenList4))\n",
    "print(\"Filtered List:\", filteredList)"
   ]
  },
  {
   "cell_type": "markdown",
   "id": "664dce3d-5bd5-4b92-b322-c8a8d69ca926",
   "metadata": {},
   "source": [
    "# Q6. Write a python program to find palindromes in the given list of strings using lambda and filter  function.['python', 'php', 'aba', 'radar', 'level'] "
   ]
  },
  {
   "cell_type": "code",
   "execution_count": 47,
   "id": "c8bdab18-9d6a-4511-abec-226808a852e0",
   "metadata": {},
   "outputs": [
    {
     "name": "stdout",
     "output_type": "stream",
     "text": [
      "Given List: ['python', 'php', 'aba', 'radar', 'level']\n",
      "Palindromes: ['php', 'aba', 'radar', 'level']\n"
     ]
    }
   ],
   "source": [
    "givenList5 = ['python', 'php', 'aba', 'radar', 'level']\n",
    "print(\"Given List:\", givenList5)\n",
    "\n",
    "palindromes = list(filter(lambda a : a == a[::-1], givenList5))\n",
    "print(\"Palindromes:\", palindromes)"
   ]
  }
 ],
 "metadata": {
  "kernelspec": {
   "display_name": "Python 3 (ipykernel)",
   "language": "python",
   "name": "python3"
  },
  "language_info": {
   "codemirror_mode": {
    "name": "ipython",
    "version": 3
   },
   "file_extension": ".py",
   "mimetype": "text/x-python",
   "name": "python",
   "nbconvert_exporter": "python",
   "pygments_lexer": "ipython3",
   "version": "3.10.8"
  }
 },
 "nbformat": 4,
 "nbformat_minor": 5
}
